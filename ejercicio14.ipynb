{
 "cells": [
  {
   "cell_type": "code",
   "execution_count": 2,
   "metadata": {},
   "outputs": [
    {
     "name": "stdout",
     "output_type": "stream",
     "text": [
      "Matriz 1:\n",
      "[2.0, 4.0]\n",
      "[4.0, 2.0]\n",
      "+\n",
      "Matriz 2:\n",
      "[1.0, 2.0]\n",
      "[2.0, 1.0]\n",
      "=\n",
      "[2.0, 4.0]\n",
      "[4.0, 2.0]\n"
     ]
    }
   ],
   "source": [
    "def crear_matriz(filas, columnas):\n",
    "    matriz = []\n",
    "    for i in range(filas):\n",
    "        fila = []\n",
    "        for j in range(columnas):\n",
    "            elemento = float(input(f'Ingrese el elemento para la fila {i+1} y columna {j+1}: '))\n",
    "            fila.append(elemento)\n",
    "        matriz.append(fila)\n",
    "    return matriz\n",
    "\n",
    "def suma_matrices(matrices):\n",
    "    suma = matrices[0]\n",
    "    for matriz in matrices[1:]:\n",
    "        for i in range(len(matriz)):\n",
    "            for j in range(len(matriz[0])):\n",
    "                suma[i][j] += matriz[i][j]\n",
    "    return suma\n",
    "\n",
    "num_matrices = int(input('Ingrese la cantidad de matrices que desea sumar: '))\n",
    "if num_matrices < 2:\n",
    "    print('Debe ingresar al menos dos matrices para sumar.')\n",
    "else:\n",
    "    matrices = []\n",
    "\n",
    "    for i in range(num_matrices):\n",
    "        filas = int(input(f'Ingrese la cantidad de filas para la matriz {i+1}: '))\n",
    "        columnas = int(input(f'Ingrese la cantidad de columnas para la matriz {i+1}: '))\n",
    "        matriz = crear_matriz(filas, columnas)\n",
    "        matrices.append(matriz)\n",
    "\n",
    "    resultado = suma_matrices(matrices)\n",
    "\n",
    "    for i, matriz in enumerate(matrices):\n",
    "        print(f'Matriz {i+1}:')\n",
    "        for fila in matriz:\n",
    "            print(fila)\n",
    "        if i < len(matrices) - 1:\n",
    "            print('+')\n",
    "    print('=')\n",
    "    for fila in resultado:\n",
    "        print(fila)"
   ]
  }
 ],
 "metadata": {
  "kernelspec": {
   "display_name": "Python 3",
   "language": "python",
   "name": "python3"
  },
  "language_info": {
   "codemirror_mode": {
    "name": "ipython",
    "version": 3
   },
   "file_extension": ".py",
   "mimetype": "text/x-python",
   "name": "python",
   "nbconvert_exporter": "python",
   "pygments_lexer": "ipython3",
   "version": "3.11.4"
  }
 },
 "nbformat": 4,
 "nbformat_minor": 2
}
