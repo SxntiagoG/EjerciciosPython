{
  "nbformat": 4,
  "nbformat_minor": 0,
  "metadata": {
    "colab": {
      "provenance": [],
      "authorship_tag": "ABX9TyP1ko6XQLYXUujZb4f3PaNC",
      "include_colab_link": true
    },
    "kernelspec": {
      "name": "python3",
      "display_name": "Python 3"
    },
    "language_info": {
      "name": "python"
    }
  },
  "cells": [
    {
      "cell_type": "markdown",
      "metadata": {
        "id": "view-in-github",
        "colab_type": "text"
      },
      "source": [
        "<a href=\"https://colab.research.google.com/github/SxntiagoG/EjerciciosPython/blob/main/Fibonacci.ipynb\" target=\"_parent\"><img src=\"https://colab.research.google.com/assets/colab-badge.svg\" alt=\"Open In Colab\"/></a>"
      ]
    },
    {
      "cell_type": "code",
      "execution_count": null,
      "metadata": {
        "colab": {
          "base_uri": "https://localhost:8080/"
        },
        "id": "muwQmagS6pYF",
        "outputId": "cafa1894-0118-49ae-d4fe-1dcb172b5df7"
      },
      "outputs": [
        {
          "output_type": "stream",
          "name": "stdout",
          "text": [
            "Fibonacci series is:  0 1 1 2 3 5 8 13 21 34 55 89 144 233 377 610 987 1597 "
          ]
        }
      ],
      "source": [
        "a=0\n",
        "b=1\n",
        "suma=1\n",
        "conteo=1\n",
        "print(\"La serie de fibonacci es: \", end = \" \")\n",
        "while(conteo <= 18):\n",
        "  conteo += 1\n",
        "  print(a, end=\" \")\n",
        "  a = b\n",
        "  b = suma\n",
        "  suma = a + b\n"
      ]
    }
  ]
}
