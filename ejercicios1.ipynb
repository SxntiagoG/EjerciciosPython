{
 "cells": [
  {
   "cell_type": "code",
   "execution_count": null,
   "metadata": {},
   "outputs": [],
   "source": [
    "nombre = input(\"¿Cual es tu nombre?: \")\n",
    "clave = input(\"¿Cual es tu clave?: \")\n",
    "antiguedad = input(\"¿Cuantos años llevas en la empresa?: \")\n",
    "\n",
    "if int(clave) == 1:\n",
    "    if int(antiguedad) == 1:\n",
    "        vacaciones = 6\n",
    "        print(\"El trabajador \" + nombre + \" cuenta con\", vacaciones, \"dias de vacaciones\")\n",
    "    elif 1 < int(antiguedad) < 7:\n",
    "        vacaciones = 14\n",
    "        print(\"El trabajador \" + nombre + \" cuenta con\", vacaciones, \"dias de vacaciones\")\n",
    "    elif int(antiguedad) >= 7:\n",
    "        vacaciones = 20\n",
    "        print(\"El trabajador \" + nombre + \" cuenta con\", vacaciones, \"dias de vacaciones\")\n",
    "\n",
    "elif int(clave) == 2:\n",
    "    if int(antiguedad) == 1:\n",
    "        vacaciones = 7\n",
    "        print(\"El trabajador \" + nombre + \" cuenta con\", vacaciones, \"dias de vacaciones\")\n",
    "    elif 1 < int(antiguedad) < 7:\n",
    "        vacaciones = 15\n",
    "        print(\"El trabajador \" + nombre + \" cuenta con\", vacaciones, \"dias de vacaciones\")\n",
    "    elif int(antiguedad) >= 7:\n",
    "        vacaciones = 22\n",
    "        print(\"El trabajador \" + nombre + \" cuenta con\", vacaciones, \"dias de vacaciones\")\n",
    "\n",
    "elif int(clave) == 3:\n",
    "    if int(antiguedad) == 1:\n",
    "        vacaciones = 10\n",
    "        print(\"El trabajador \" + nombre + \" cuenta con\", vacaciones, \"dias de vacaciones\")\n",
    "    elif 1 < int(antiguedad) < 7:\n",
    "        vacaciones = 20\n",
    "        print(\"El trabajador \" + nombre + \" cuenta con\", vacaciones, \"dias de vacaciones\")\n",
    "    elif int(antiguedad) >= 7:\n",
    "        vacaciones = 30\n",
    "        print(\"El trabajador \" + nombre + \" cuenta con\", vacaciones, \"dias de vacaciones\")\n",
    "        \n",
    "else:\n",
    "    print(\"Clave no registrada\")"
   ]
  }
 ],
 "metadata": {
  "language_info": {
   "name": "python"
  },
  "orig_nbformat": 4
 },
 "nbformat": 4,
 "nbformat_minor": 2
}
