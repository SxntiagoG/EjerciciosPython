{
  "nbformat": 4,
  "nbformat_minor": 0,
  "metadata": {
    "colab": {
      "provenance": [],
      "authorship_tag": "ABX9TyNsai12nWz6lGQpLkWr7QuB",
      "include_colab_link": true
    },
    "kernelspec": {
      "name": "python3",
      "display_name": "Python 3"
    },
    "language_info": {
      "name": "python"
    }
  },
  "cells": [
    {
      "cell_type": "markdown",
      "metadata": {
        "id": "view-in-github",
        "colab_type": "text"
      },
      "source": [
        "<a href=\"https://colab.research.google.com/github/SxntiagoG/EjerciciosPython/blob/main/Untitled5.ipynb\" target=\"_parent\"><img src=\"https://colab.research.google.com/assets/colab-badge.svg\" alt=\"Open In Colab\"/></a>"
      ]
    },
    {
      "cell_type": "code",
      "execution_count": null,
      "metadata": {
        "colab": {
          "base_uri": "https://localhost:8080/"
        },
        "id": "bB5QT_5zureO",
        "outputId": "3d72ec5f-323d-467c-827a-5b8201752398"
      },
      "outputs": [
        {
          "output_type": "stream",
          "name": "stdout",
          "text": [
            "Ingrese una cadena de caracteres: Hola, Buenaas tardes hibrido\n",
            "Ingrese la palabra que desea eliminar: hibrido\n",
            "Cadena resultante después de eliminar la palabra: Hola, Buenaas tardes \n"
          ]
        }
      ],
      "source": [
        "\n",
        "cadena = input(\"Ingrese una cadena de caracteres: \")\n",
        "\n",
        "palabra_a_eliminar = input(\"Ingrese la palabra que desea eliminar: \")\n",
        "\n",
        "\n",
        "nueva_cadena = cadena.replace(palabra_a_eliminar, '')\n",
        "\n",
        "\n",
        "print(\"Cadena resultante después de eliminar la palabra:\", nueva_cadena)"
      ]
    }
  ]
}
