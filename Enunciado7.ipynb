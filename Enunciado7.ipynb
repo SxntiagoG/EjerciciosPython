{
  "nbformat": 4,
  "nbformat_minor": 0,
  "metadata": {
    "colab": {
      "provenance": [],
      "authorship_tag": "ABX9TyNvNo46/Z97pOKsrYVQnbEn",
      "include_colab_link": true
    },
    "kernelspec": {
      "name": "python3",
      "display_name": "Python 3"
    },
    "language_info": {
      "name": "python"
    }
  },
  "cells": [
    {
      "cell_type": "markdown",
      "metadata": {
        "id": "view-in-github",
        "colab_type": "text"
      },
      "source": [
        "<a href=\"https://colab.research.google.com/github/SxntiagoG/EjerciciosPython/blob/main/Enunciado7.ipynb\" target=\"_parent\"><img src=\"https://colab.research.google.com/assets/colab-badge.svg\" alt=\"Open In Colab\"/></a>"
      ]
    },
    {
      "cell_type": "code",
      "execution_count": 1,
      "metadata": {
        "colab": {
          "base_uri": "https://localhost:8080/"
        },
        "id": "BXeYNPifB3pJ",
        "outputId": "2fa0b6cf-7a7f-48f2-9209-c7971a95647f"
      },
      "outputs": [
        {
          "output_type": "stream",
          "name": "stdout",
          "text": [
            "Ingresa una cadena de caracteres: Hola\n",
            "Cadena invertida: aloH\n"
          ]
        }
      ],
      "source": [
        "# Solicitar al usuario que ingrese una cadena de caracteres\n",
        "cadena_original = input(\"Ingresa una cadena de caracteres: \")\n",
        "\n",
        "# Inicializar una cadena vacía para almacenar la cadena invertida\n",
        "cadena_invertida = \"\"\n",
        "\n",
        "# Iterar a través de la cadena original en orden inverso usando un bucle for\n",
        "for i in range(len(cadena_original) - 1, -1, -1):\n",
        "    cadena_invertida += cadena_original[i]\n",
        "\n",
        "# Mostrar la cadena invertida\n",
        "print(\"Cadena invertida:\", cadena_invertida)\n"
      ]
    }
  ]
}