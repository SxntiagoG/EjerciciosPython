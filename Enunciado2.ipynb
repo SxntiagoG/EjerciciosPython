{
 "cells": [
  {
   "cell_type": "code",
   "execution_count": null,
   "metadata": {},
   "outputs": [],
   "source": []
  },
  {
   "cell_type": "code",
   "execution_count": null,
   "metadata": {},
   "outputs": [],
   "source": [
    "\n",
    "numero = int(input(\"Ingrese un número entero: \"))\n",
    "\n",
    "\n",
    "if numero % 2 == 0:\n",
    "    mensaje = f\"El número {numero} es par\"\n",
    "else:\n",
    "    mensaje = f\"El número {numero} es impar\"\n",
    "\n",
    "\n",
    "print(mensaje)\n",
    "\n"
   ]
  }
 ],
 "metadata": {
  "language_info": {
   "name": "python"
  },
  "orig_nbformat": 4
 },
 "nbformat": 4,
 "nbformat_minor": 2
}
