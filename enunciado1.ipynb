{
 "cells": [
  {
   "cell_type": "code",
   "execution_count": null,
   "metadata": {},
   "outputs": [
    {
     "ename": "",
     "evalue": "",
     "output_type": "error",
     "traceback": [
      "\u001b[1;31mRunning cells with 'c:\\Users\\316C - 24\\AppData\\Local\\Programs\\Python\\Python311\\python.exe' requires the ipykernel package.\n",
      "\u001b[1;31mRun the following command to install 'ipykernel' into the Python environment. \n",
      "\u001b[1;31mCommand: '\"c:/Users/316C - 24/AppData/Local/Programs/Python/Python311/python.exe\" -m pip install ipykernel -U --user --force-reinstall'"
     ]
    }
   ],
   "source": [
    "nombre = input(\"Imgrese su nombre\")\n",
    "\n",
    "\n"
   ]
  },
  {
   "cell_type": "code",
   "execution_count": null,
   "metadata": {},
   "outputs": [],
   "source": [
    "clave = int(input(\"Ingrese la clave de su departamento\"))"
   ]
  },
  {
   "cell_type": "code",
   "execution_count": null,
   "metadata": {},
   "outputs": [],
   "source": [
    "if clave == 1:\n",
    "    yrs = int(input(\"Cuantos años de trabajo a prestado en la empresa\"))\n",
    "    if yrs >= 7:\n",
    "            print(nombre + \"usted cuenta con 20 dias de vacaciones\")\n",
    "    elif yrs >= 2:\n",
    "             print(nombre + \"usted cuenta con 14 dias de vacaciones\")\n",
    "    else:\n",
    "             print(nombre + \"usted cuenta con 6 dias de vacaciones\")\n",
    "elif clave == 2:\n",
    "    yrs = int(input(\"Cuantos años de trabajo a prestado en la empresa\"))\n",
    "    if yrs >= 7:\n",
    "            print(nombre + \"usted cuenta con 22 dias de vacaciones\")\n",
    "    elif yrs >= 2:\n",
    "             print(nombre + \"usted cuenta con 15 dias de vacaciones\")\n",
    "    else:\n",
    "             print(nombre + \"usted cuenta con 7 dias de vacaciones\")\n",
    "elif clave == 3:\n",
    "    yrs = int(input(\"Cuantos años de trabajo a prestado en la empresa\"))\n",
    "    if yrs >= 7:\n",
    "            print(nombre + \"usted cuenta con 30 dias de vacaciones\")\n",
    "    elif yrs >= 2:\n",
    "             print(nombre + \"usted cuenta con 20 dias de vacaciones\")\n",
    "    else:\n",
    "             print(nombre + \"usted cuenta con 10 dias de vacaciones\")\n",
    "else:\n",
    "    print(\"Bobo o que ponga una clave valida parcero\")"
   ]
  }
 ],
 "metadata": {
  "kernelspec": {
   "display_name": "Python 3",
   "language": "python",
   "name": "python3"
  },
  "language_info": {
   "name": "python",
   "version": "3.11.4"
  },
  "orig_nbformat": 4
 },
 "nbformat": 4,
 "nbformat_minor": 2
}
