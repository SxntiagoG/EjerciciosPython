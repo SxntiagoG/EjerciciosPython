{
  "nbformat": 4,
  "nbformat_minor": 0,
  "metadata": {
    "colab": {
      "provenance": [],
      "authorship_tag": "ABX9TyPdEIjBpwf30deaHPEWk8oV",
      "include_colab_link": true
    },
    "kernelspec": {
      "name": "python3",
      "display_name": "Python 3"
    },
    "language_info": {
      "name": "python"
    }
  },
  "cells": [
    {
      "cell_type": "markdown",
      "metadata": {
        "id": "view-in-github",
        "colab_type": "text"
      },
      "source": [
        "<a href=\"https://colab.research.google.com/github/SxntiagoG/EjerciciosPython/blob/main/Enunciado9.ipynb\" target=\"_parent\"><img src=\"https://colab.research.google.com/assets/colab-badge.svg\" alt=\"Open In Colab\"/></a>"
      ]
    },
    {
      "cell_type": "code",
      "execution_count": null,
      "metadata": {
        "id": "njIFTf_kXSHO"
      },
      "outputs": [],
      "source": [
        "\n",
        "frase = input(\"Ingrese una frase: \")\n",
        "\n",
        "\n",
        "frase = frase.lower()\n",
        "\n",
        "\n",
        "caracter = input(\"Ingrese un carácter específico: \")\n",
        "\n",
        "\n",
        "frase_sin_vocales = \"\"\n",
        "for letra in frase:\n",
        "    if letra not in \"aeiouáéíóú\":\n",
        "        frase_sin_vocales += letra\n",
        "\n",
        "\n",
        "print(\"Frase sin vocales:\", frase_sin_vocales)\n",
        "\n",
        "\n",
        "if caracter in frase:\n",
        "    print(f\"El carácter '{caracter}' está presente en la frase.\")\n",
        "else:\n",
        "    print(f\"El carácter '{caracter}' no está presente en la frase.\")\n"
      ]
    }
  ]
}