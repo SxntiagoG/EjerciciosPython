{
 "cells": [
  {
   "cell_type": "code",
   "execution_count": null,
   "metadata": {},
   "outputs": [],
   "source": [
    "def crear_matriz(filas, columnas):\n",
    "    matriz = []\n",
    "    for i in range(filas):\n",
    "        fila = []\n",
    "        for j in range(columnas):\n",
    "            elemento = int(input(f'Ingrese el elemento para la fila {i+1} y columna {j+1}: '))\n",
    "            fila.append(elemento)\n",
    "        matriz.append(fila)\n",
    "    return matriz\n",
    "\n",
    "def mostrar_matriz(matriz):\n",
    "    for fila in matriz:\n",
    "        for elemento in fila:\n",
    "            print(elemento, end='\\t')\n",
    "        print()\n",
    "\n",
    "filas = int(input('Ingrese la cantidad de filas: '))\n",
    "columnas = int(input('Ingrese la cantidad de columnas: '))\n",
    "\n",
    "matriz_generada = crear_matriz(filas, columnas)\n",
    "\n",
    "print('Matriz resultante:')\n",
    "mostrar_matriz(matriz_generada)"
   ]
  }
 ],
 "metadata": {
  "language_info": {
   "name": "python"
  }
 },
 "nbformat": 4,
 "nbformat_minor": 2
}
