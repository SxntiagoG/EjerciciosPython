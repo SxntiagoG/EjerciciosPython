{
 "cells": [
  {
   "cell_type": "code",
   "execution_count": 1,
   "metadata": {},
   "outputs": [
    {
     "name": "stdout",
     "output_type": "stream",
     "text": [
      "La lista ingresada es: [1, 2, 3, 4, 5]\n",
      "La suma de los elementos en la lista es: 15\n"
     ]
    }
   ],
   "source": [
    "# Solicitar la longitud de la lista\n",
    "longitud = int(input(\"Ingrese la longitud de la lista: \"))\n",
    "\n",
    "# Inicializar una lista vacía para almacenar los elementos\n",
    "lista = []\n",
    "\n",
    "# Solicitar los elementos y agregarlos a la lista\n",
    "for i in range(longitud):\n",
    "    elemento = int(input(f\"Ingrese el elemento {i+1}: \"))\n",
    "    lista.append(elemento)\n",
    "\n",
    "# Mostrar la lista\n",
    "print(\"La lista ingresada es:\", lista)\n",
    "\n",
    "# Calcular la suma de los elementos\n",
    "suma = sum(lista)\n",
    "print(\"La suma de los elementos en la lista es:\", suma)\n"
   ]
  }
 ],
 "metadata": {
  "kernelspec": {
   "display_name": "Python 3",
   "language": "python",
   "name": "python3"
  },
  "language_info": {
   "codemirror_mode": {
    "name": "ipython",
    "version": 3
   },
   "file_extension": ".py",
   "mimetype": "text/x-python",
   "name": "python",
   "nbconvert_exporter": "python",
   "pygments_lexer": "ipython3",
   "version": "3.11.6"
  }
 },
 "nbformat": 4,
 "nbformat_minor": 2
}
