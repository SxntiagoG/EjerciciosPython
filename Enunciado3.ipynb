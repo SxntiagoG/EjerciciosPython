{
  "nbformat": 4,
  "nbformat_minor": 0,
  "metadata": {
    "colab": {
      "provenance": [],
      "authorship_tag": "ABX9TyNanBYetye6k09IWDbmdMPS",
      "include_colab_link": true
    },
    "kernelspec": {
      "name": "python3",
      "display_name": "Python 3"
    },
    "language_info": {
      "name": "python"
    }
  },
  "cells": [
    {
      "cell_type": "markdown",
      "metadata": {
        "id": "view-in-github",
        "colab_type": "text"
      },
      "source": [
        "<a href=\"https://colab.research.google.com/github/SxntiagoG/EjerciciosPython/blob/main/Enunciado3.ipynb\" target=\"_parent\"><img src=\"https://colab.research.google.com/assets/colab-badge.svg\" alt=\"Open In Colab\"/></a>"
      ]
    },
    {
      "cell_type": "code",
      "execution_count": null,
      "metadata": {
        "colab": {
          "base_uri": "https://localhost:8080/"
        },
        "id": "52mE7bTk70gu",
        "outputId": "896d9754-d889-4b5e-8cc0-6c3eb0fefc73"
      },
      "outputs": [
        {
          "name": "stdout",
          "output_type": "stream",
          "text": [
            "Ingrese el primer número entero5\n",
            "Ingrese el segundo número entero2\n",
            "Ingrese el tercer número entero3\n"
          ]
        }
      ],
      "source": [
        "num1 = int(input(\"Ingrese el primer número entero\"))\n",
        "num2 = int(input(\"Ingrese el segundo número entero\"))\n",
        "num3 = int(input(\"Ingrese el tercer número entero\"))"
      ]
    },
    {
      "cell_type": "code",
      "source": [
        "if num1 > num2 and num1 > num3:\n",
        "  print(f\"El numero mayor es {num1}\")\n",
        "\n",
        "elif num2 > num3:\n",
        "  print(f\"El numero mayor es {num2}\")\n",
        "\n",
        "else :\n",
        "  print(f\"El numero mayor es {num3}\")"
      ],
      "metadata": {
        "colab": {
          "base_uri": "https://localhost:8080/"
        },
        "id": "TMD6fk4Z-g9-",
        "outputId": "5317daf0-b4b6-424b-e400-b365e2a4af83"
      },
      "execution_count": null,
      "outputs": [
        {
          "output_type": "stream",
          "name": "stdout",
          "text": [
            "El numero mayor es 5\n"
          ]
        }
      ]
    }
  ]
}