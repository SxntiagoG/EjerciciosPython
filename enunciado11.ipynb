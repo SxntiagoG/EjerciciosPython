{
 "cells": [
  {
   "cell_type": "code",
   "execution_count": 1,
   "metadata": {},
   "outputs": [
    {
     "name": "stdout",
     "output_type": "stream",
     "text": [
      "La lista resultante es: ['A', 'c', 'E', 'E', 'f']\n"
     ]
    }
   ],
   "source": [
    "lista = [\"A\", \"B\", \"b\", \"c\", \"E\", \"E\", \"f\"]\n",
    "\n",
    "elemento_a_eliminar = input(\"Ingrese el elemento que desea eliminar: \").lower()  # Convertir a minúsculas\n",
    "\n",
    "nueva_lista = [element for element in lista if element.lower() != elemento_a_eliminar]\n",
    "\n",
    "if len(nueva_lista) == len(lista):\n",
    "    print(f\"'{elemento_a_eliminar}' no se encontró en la lista.\")\n",
    "else:\n",
    "    print(f\"La lista resultante es: {nueva_lista}\")\n"
   ]
  }
 ],
 "metadata": {
  "kernelspec": {
   "display_name": "Python 3",
   "language": "python",
   "name": "python3"
  },
  "language_info": {
   "codemirror_mode": {
    "name": "ipython",
    "version": 3
   },
   "file_extension": ".py",
   "mimetype": "text/x-python",
   "name": "python",
   "nbconvert_exporter": "python",
   "pygments_lexer": "ipython3",
   "version": "3.11.6"
  }
 },
 "nbformat": 4,
 "nbformat_minor": 2
}
