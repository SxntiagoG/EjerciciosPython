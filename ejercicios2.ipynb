{
 "cells": [
  {
   "cell_type": "code",
   "execution_count": null,
   "metadata": {},
   "outputs": [],
   "source": [
    "num = int(input(\"Ingrese un numero: \"))\n",
    "\n",
    "if num % 2 == 0:\n",
    "    print(\"El numero\", num, \"es par\")\n",
    "else:\n",
    "    print(\"El numero\", num, \"es impar\")"
   ]
  }
 ],
 "metadata": {
  "language_info": {
   "name": "python"
  },
  "orig_nbformat": 4
 },
 "nbformat": 4,
 "nbformat_minor": 2
}
