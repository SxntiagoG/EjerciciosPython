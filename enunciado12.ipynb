{
 "cells": [
  {
   "cell_type": "code",
   "execution_count": null,
   "metadata": {},
   "outputs": [],
   "source": [
    "numeros = [1, 2, 3, 4, 5]\n",
    "\n",
    "if len(numeros) < 2:\n",
    "    print(\"La lista no tiene suficientes elementos para eliminar el primero y el último.\")\n",
    "else:\n",
    "    primer_elemento_eliminado = numeros.pop(0)\n",
    "    ultimo_elemento_eliminado = numeros.pop()\n",
    "\n",
    "    lista_sin_eliminados = numeros\n",
    "    elementos_eliminados = [primer_elemento_eliminado, ultimo_elemento_eliminado]\n",
    "\n",
    "    print(\"Lista sin elementos eliminados:\", lista_sin_eliminados)\n",
    "    print(\"Elementos eliminados:\", elementos_eliminados)\n"
   ]
  }
 ],
 "metadata": {
  "language_info": {
   "name": "python"
  }
 },
 "nbformat": 4,
 "nbformat_minor": 2
}
